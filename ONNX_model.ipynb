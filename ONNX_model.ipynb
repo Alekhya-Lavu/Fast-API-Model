{
 "cells": [
  {
   "cell_type": "markdown",
   "metadata": {},
   "source": [
    "##  An ONNX Model"
   ]
  },
  {
   "cell_type": "markdown",
   "metadata": {},
   "source": [
    "In this notebook, you'll learn how to train a model, convert it to ONNX, and then predict on data using the uploaded ONNX model.<br>\n",
    "                                                                                                                             \n",
    "This notebook is based on scikit-learn and uses the Boston Housing dataset.<br>\n",
    "##### Overview of Dataset<br>\n",
    "I took the Housing dataset which contains information about different houses in Boston.There are 506 samples and 13 feature variables in this dataset. The objective is to predict the value of prices of the house using the given features.<br><br>\n",
    "The description of all the features is given below:<br><br>\n",
    "CRIM: Per capita crime rate by town<br>\n",
    "ZN: Proportion of residential land zoned for lots over 25,000 sq. ft<br>\n",
    "INDUS: Proportion of non-retail business acres per town<br>\n",
    "CHAS: Charles River dummy variable (= 1 if tract bounds river; 0 otherwise)<br>\n",
    "NOX: Nitric oxide concentration (parts per 10 million)<br>\n",
    "RM: Average number of rooms per dwelling<br>\n",
    "AGE: Proportion of owner-occupied units built prior to 1940.<br>\n",
    "DIS: Weighted distances to five Boston employment centers.<br>\n",
    "RAD: Index of accessibility to radial highways.<br>\n",
    "TAX: Full-value property tax rate.<br>\n",
    "PTRATIO: Pupil-teacher ratio by town.<br>\n",
    "B: 1000(Bk — 0.63)², where Bk is the proportion of people of African American descent by town<br>\n",
    "LSTAT: Percentage of lower status of the population.<br>\n",
    "MEDV: Median value of owner-occupied homes.<br><br>\n",
    "The prices of the house indicated by the variable MEDV is our target variable and the remaining are the feature variables based on which we will predict the value of a house."
   ]
  },
  {
   "cell_type": "markdown",
   "metadata": {},
   "source": [
    "##### Why Use ONNX?<br><br>\n",
    "Open Neural Network Exchange(ONNX) is designed to allow framework INTEROPORABILITY - Allow developers to more easily move their models between frameworks.Hardware OPTIMIZATION - Using ONNX runtimes and libraries designed to maximize performance across hardware. "
   ]
  },
  {
   "cell_type": "markdown",
   "metadata": {},
   "source": [
    "##### Loading Libraries"
   ]
  },
  {
   "cell_type": "code",
   "execution_count": 3,
   "metadata": {},
   "outputs": [],
   "source": [
    "from sklearn.datasets import load_boston\n",
    "import numpy as np\n",
    "import pandas as pd\n",
    "import pickle"
   ]
  },
  {
   "cell_type": "markdown",
   "metadata": {},
   "source": [
    "##### Loading dataset from scikit-learn datsets"
   ]
  },
  {
   "cell_type": "code",
   "execution_count": 4,
   "metadata": {},
   "outputs": [],
   "source": [
    "boston = load_boston()"
   ]
  },
  {
   "cell_type": "code",
   "execution_count": 9,
   "metadata": {},
   "outputs": [
    {
     "data": {
      "text/html": [
       "<div>\n",
       "<style scoped>\n",
       "    .dataframe tbody tr th:only-of-type {\n",
       "        vertical-align: middle;\n",
       "    }\n",
       "\n",
       "    .dataframe tbody tr th {\n",
       "        vertical-align: top;\n",
       "    }\n",
       "\n",
       "    .dataframe thead th {\n",
       "        text-align: right;\n",
       "    }\n",
       "</style>\n",
       "<table border=\"1\" class=\"dataframe\">\n",
       "  <thead>\n",
       "    <tr style=\"text-align: right;\">\n",
       "      <th></th>\n",
       "      <th>CRIM</th>\n",
       "      <th>ZN</th>\n",
       "      <th>INDUS</th>\n",
       "      <th>CHAS</th>\n",
       "      <th>NOX</th>\n",
       "      <th>RM</th>\n",
       "      <th>AGE</th>\n",
       "      <th>DIS</th>\n",
       "      <th>RAD</th>\n",
       "      <th>TAX</th>\n",
       "      <th>PTRATIO</th>\n",
       "      <th>B</th>\n",
       "      <th>LSTAT</th>\n",
       "    </tr>\n",
       "  </thead>\n",
       "  <tbody>\n",
       "    <tr>\n",
       "      <th>501</th>\n",
       "      <td>0.06263</td>\n",
       "      <td>0.0</td>\n",
       "      <td>11.93</td>\n",
       "      <td>0.0</td>\n",
       "      <td>0.573</td>\n",
       "      <td>6.593</td>\n",
       "      <td>69.1</td>\n",
       "      <td>2.4786</td>\n",
       "      <td>1.0</td>\n",
       "      <td>273.0</td>\n",
       "      <td>21.0</td>\n",
       "      <td>391.99</td>\n",
       "      <td>9.67</td>\n",
       "    </tr>\n",
       "    <tr>\n",
       "      <th>502</th>\n",
       "      <td>0.04527</td>\n",
       "      <td>0.0</td>\n",
       "      <td>11.93</td>\n",
       "      <td>0.0</td>\n",
       "      <td>0.573</td>\n",
       "      <td>6.120</td>\n",
       "      <td>76.7</td>\n",
       "      <td>2.2875</td>\n",
       "      <td>1.0</td>\n",
       "      <td>273.0</td>\n",
       "      <td>21.0</td>\n",
       "      <td>396.90</td>\n",
       "      <td>9.08</td>\n",
       "    </tr>\n",
       "    <tr>\n",
       "      <th>503</th>\n",
       "      <td>0.06076</td>\n",
       "      <td>0.0</td>\n",
       "      <td>11.93</td>\n",
       "      <td>0.0</td>\n",
       "      <td>0.573</td>\n",
       "      <td>6.976</td>\n",
       "      <td>91.0</td>\n",
       "      <td>2.1675</td>\n",
       "      <td>1.0</td>\n",
       "      <td>273.0</td>\n",
       "      <td>21.0</td>\n",
       "      <td>396.90</td>\n",
       "      <td>5.64</td>\n",
       "    </tr>\n",
       "    <tr>\n",
       "      <th>504</th>\n",
       "      <td>0.10959</td>\n",
       "      <td>0.0</td>\n",
       "      <td>11.93</td>\n",
       "      <td>0.0</td>\n",
       "      <td>0.573</td>\n",
       "      <td>6.794</td>\n",
       "      <td>89.3</td>\n",
       "      <td>2.3889</td>\n",
       "      <td>1.0</td>\n",
       "      <td>273.0</td>\n",
       "      <td>21.0</td>\n",
       "      <td>393.45</td>\n",
       "      <td>6.48</td>\n",
       "    </tr>\n",
       "    <tr>\n",
       "      <th>505</th>\n",
       "      <td>0.04741</td>\n",
       "      <td>0.0</td>\n",
       "      <td>11.93</td>\n",
       "      <td>0.0</td>\n",
       "      <td>0.573</td>\n",
       "      <td>6.030</td>\n",
       "      <td>80.8</td>\n",
       "      <td>2.5050</td>\n",
       "      <td>1.0</td>\n",
       "      <td>273.0</td>\n",
       "      <td>21.0</td>\n",
       "      <td>396.90</td>\n",
       "      <td>7.88</td>\n",
       "    </tr>\n",
       "  </tbody>\n",
       "</table>\n",
       "</div>"
      ],
      "text/plain": [
       "        CRIM   ZN  INDUS  CHAS    NOX     RM   AGE     DIS  RAD    TAX  \\\n",
       "501  0.06263  0.0  11.93   0.0  0.573  6.593  69.1  2.4786  1.0  273.0   \n",
       "502  0.04527  0.0  11.93   0.0  0.573  6.120  76.7  2.2875  1.0  273.0   \n",
       "503  0.06076  0.0  11.93   0.0  0.573  6.976  91.0  2.1675  1.0  273.0   \n",
       "504  0.10959  0.0  11.93   0.0  0.573  6.794  89.3  2.3889  1.0  273.0   \n",
       "505  0.04741  0.0  11.93   0.0  0.573  6.030  80.8  2.5050  1.0  273.0   \n",
       "\n",
       "     PTRATIO       B  LSTAT  \n",
       "501     21.0  391.99   9.67  \n",
       "502     21.0  396.90   9.08  \n",
       "503     21.0  396.90   5.64  \n",
       "504     21.0  393.45   6.48  \n",
       "505     21.0  396.90   7.88  "
      ]
     },
     "execution_count": 9,
     "metadata": {},
     "output_type": "execute_result"
    }
   ],
   "source": [
    "data = pd.DataFrame(boston.data)\n",
    "data.columns = boston.feature_names\n",
    "data.tail()"
   ]
  },
  {
   "cell_type": "code",
   "execution_count": 10,
   "metadata": {},
   "outputs": [
    {
     "name": "stdout",
     "output_type": "stream",
     "text": [
      "<class 'pandas.core.frame.DataFrame'>\n",
      "RangeIndex: 506 entries, 0 to 505\n",
      "Data columns (total 13 columns):\n",
      "CRIM       506 non-null float64\n",
      "ZN         506 non-null float64\n",
      "INDUS      506 non-null float64\n",
      "CHAS       506 non-null float64\n",
      "NOX        506 non-null float64\n",
      "RM         506 non-null float64\n",
      "AGE        506 non-null float64\n",
      "DIS        506 non-null float64\n",
      "RAD        506 non-null float64\n",
      "TAX        506 non-null float64\n",
      "PTRATIO    506 non-null float64\n",
      "B          506 non-null float64\n",
      "LSTAT      506 non-null float64\n",
      "dtypes: float64(13)\n",
      "memory usage: 51.5 KB\n"
     ]
    }
   ],
   "source": [
    "data.info()"
   ]
  },
  {
   "cell_type": "markdown",
   "metadata": {},
   "source": [
    "###### Trying to save indices of columns which helps in tracking the order of columns"
   ]
  },
  {
   "cell_type": "code",
   "execution_count": 11,
   "metadata": {},
   "outputs": [
    {
     "data": {
      "text/plain": [
       "array(['CRIM', 'ZN', 'INDUS', 'CHAS', 'NOX', 'RM', 'AGE', 'DIS', 'RAD',\n",
       "       'TAX', 'PTRATIO', 'B', 'LSTAT'], dtype='<U7')"
      ]
     },
     "execution_count": 11,
     "metadata": {},
     "output_type": "execute_result"
    }
   ],
   "source": [
    "features = boston['feature_names']\n",
    "features\n"
   ]
  },
  {
   "cell_type": "code",
   "execution_count": 12,
   "metadata": {},
   "outputs": [],
   "source": [
    "with open('features.pickle', 'wb') as f:  #saving features into pickle file\n",
    "    pickle.dump(features,f)"
   ]
  },
  {
   "cell_type": "code",
   "execution_count": 13,
   "metadata": {},
   "outputs": [
    {
     "data": {
      "text/plain": [
       "(506, 13)"
      ]
     },
     "execution_count": 13,
     "metadata": {},
     "output_type": "execute_result"
    }
   ],
   "source": [
    "boston.data.shape"
   ]
  },
  {
   "cell_type": "code",
   "execution_count": 14,
   "metadata": {},
   "outputs": [
    {
     "data": {
      "text/plain": [
       "(506,)"
      ]
     },
     "execution_count": 14,
     "metadata": {},
     "output_type": "execute_result"
    }
   ],
   "source": [
    "boston.target.shape"
   ]
  },
  {
   "cell_type": "code",
   "execution_count": 15,
   "metadata": {},
   "outputs": [
    {
     "data": {
      "text/plain": [
       "dtype('float64')"
      ]
     },
     "execution_count": 15,
     "metadata": {},
     "output_type": "execute_result"
    }
   ],
   "source": [
    "boston.data.dtype"
   ]
  },
  {
   "cell_type": "code",
   "execution_count": 16,
   "metadata": {},
   "outputs": [
    {
     "data": {
      "text/plain": [
       "dtype('float64')"
      ]
     },
     "execution_count": 16,
     "metadata": {},
     "output_type": "execute_result"
    }
   ],
   "source": [
    "boston.target.dtype"
   ]
  },
  {
   "cell_type": "code",
   "execution_count": 17,
   "metadata": {},
   "outputs": [],
   "source": [
    "x = boston.data\n",
    "y = boston.target"
   ]
  },
  {
   "cell_type": "markdown",
   "metadata": {},
   "source": [
    "##### Train-Test Split"
   ]
  },
  {
   "cell_type": "code",
   "execution_count": 18,
   "metadata": {},
   "outputs": [],
   "source": [
    "from sklearn.model_selection import train_test_split\n",
    "X_train, X_test, y_train, y_test = train_test_split(x,y, test_size=0.3, random_state=0)"
   ]
  },
  {
   "cell_type": "code",
   "execution_count": 19,
   "metadata": {},
   "outputs": [
    {
     "name": "stdout",
     "output_type": "stream",
     "text": [
      "X_train: (354, 13) \n",
      "y_train: (354,) \n",
      "X_test: (152, 13) \n",
      "y_test: (152,)\n"
     ]
    }
   ],
   "source": [
    "print('X_train:',X_train.shape,'\\ny_train:',y_train.shape,'\\nX_test:',X_test.shape,'\\ny_test:',y_test.shape)"
   ]
  },
  {
   "cell_type": "markdown",
   "metadata": {},
   "source": [
    "##### Creating a Pipeline\n",
    "<br>Pipeline helps to automate ML workflows which is a sequence of data to be transformed and correlated together in a model that can be tested and evaluated to achieve an outcome."
   ]
  },
  {
   "cell_type": "code",
   "execution_count": 20,
   "metadata": {},
   "outputs": [],
   "source": [
    "from sklearn.preprocessing import StandardScaler\n",
    "from sklearn.pipeline import Pipeline\n",
    "from sklearn.decomposition import PCA\n",
    "from sklearn.ensemble import RandomForestRegressor\n",
    "from sklearn.model_selection import GridSearchCV\n",
    "from sklearn.preprocessing import StandardScaler"
   ]
  },
  {
   "cell_type": "code",
   "execution_count": 21,
   "metadata": {},
   "outputs": [],
   "source": [
    "sc = StandardScaler()\n",
    "rf = RandomForestRegressor(random_state=0)"
   ]
  },
  {
   "cell_type": "code",
   "execution_count": 22,
   "metadata": {},
   "outputs": [],
   "source": [
    "pipe = Pipeline(steps=[('Scaler',sc), ('rf', rf)])"
   ]
  },
  {
   "cell_type": "markdown",
   "metadata": {},
   "source": [
    "##### Grid Search"
   ]
  },
  {
   "cell_type": "code",
   "execution_count": 23,
   "metadata": {},
   "outputs": [],
   "source": [
    "#n_components = [2,5,7,9,10]\n",
    "\n",
    "params_grid = {\n",
    "    'rf__n_estimators': [3,5,10],\n",
    "    'rf__max_depth': [3,5,7,9]\n",
    "     }"
   ]
  },
  {
   "cell_type": "code",
   "execution_count": 24,
   "metadata": {},
   "outputs": [
    {
     "name": "stdout",
     "output_type": "stream",
     "text": [
      "Best parameters: {'rf__max_depth': 9, 'rf__n_estimators': 5} \n",
      "\n",
      "r2: 0.8112741738276453\n"
     ]
    }
   ],
   "source": [
    "estimator = GridSearchCV(pipe, params_grid,cv=5, n_jobs=1, scoring= 'r2')\n",
    "estimator.fit(X_train,y_train)\n",
    "\n",
    "print('Best parameters:',estimator.best_params_, '\\n\\nr2:',estimator.best_score_)\n"
   ]
  },
  {
   "cell_type": "code",
   "execution_count": 25,
   "metadata": {},
   "outputs": [
    {
     "name": "stdout",
     "output_type": "stream",
     "text": [
      "r2 after parameter tuning 0.9625396462971011\n"
     ]
    }
   ],
   "source": [
    "model = estimator.best_estimator_\n",
    "model.fit(X_train,y_train)\n",
    "r2 = model.score(X_train,y_train)\n",
    "print('r2 after parameter tuning',r2)\n"
   ]
  },
  {
   "cell_type": "code",
   "execution_count": 26,
   "metadata": {},
   "outputs": [],
   "source": [
    "from sklearn.metrics import mean_squared_error\n",
    "import math"
   ]
  },
  {
   "cell_type": "code",
   "execution_count": 27,
   "metadata": {},
   "outputs": [
    {
     "name": "stdout",
     "output_type": "stream",
     "text": [
      "RMSE Test: 4.550560411344521\n"
     ]
    }
   ],
   "source": [
    "pred = model.predict(X_test)\n",
    "print(\"RMSE Test:\",np.sqrt(mean_squared_error(pred,y_test)))"
   ]
  },
  {
   "cell_type": "code",
   "execution_count": 28,
   "metadata": {
    "scrolled": true
   },
   "outputs": [
    {
     "data": {
      "text/plain": [
       "array([23.99405583, 22.18555556, 21.74894444, 11.59873016, 20.90150706,\n",
       "       21.21046743, 21.39536787, 20.5251341 , 20.42692342, 20.09489606,\n",
       "        7.29666667, 11.2       , 14.178     ,  9.27238095, 50.        ,\n",
       "       33.47066667, 20.90376715, 36.2       , 28.19738916, 20.5251341 ,\n",
       "       23.97282567, 21.39577778, 19.45600717, 23.5387528 , 21.6411341 ,\n",
       "       19.56      , 19.44489606, 16.78166667, 46.72      , 18.958     ,\n",
       "       14.774     , 18.0754902 , 19.58165812, 20.17479222, 22.61416667,\n",
       "       16.55666667,  8.50460317, 19.57222222, 15.295     , 16.744     ,\n",
       "       22.89102299, 20.90150706, 22.1135468 , 16.94      , 23.34818966,\n",
       "       23.05485632, 21.99066667, 16.88666667, 14.63066667, 26.625     ,\n",
       "       15.29      , 20.535     , 20.47139524, 43.02      , 15.424     ,\n",
       "       20.27666667, 18.90212555, 18.76405128, 20.32222222, 20.89657143,\n",
       "       22.00754789, 19.57272857, 33.19066667, 30.66428571, 20.75123377,\n",
       "       29.69246753, 14.94      , 17.748     , 17.1       , 20.90150706,\n",
       "       20.5066243 , 23.21268966, 23.72557098, 32.14      , 28.005     ,\n",
       "        8.93166667, 45.4       , 21.54534039, 22.92485632, 20.28358571,\n",
       "       30.24      , 18.59      , 18.40666667, 44.58      , 44.34      ,\n",
       "       23.40961138, 21.96580077, 17.47882353, 25.50222222, 16.124     ,\n",
       "       17.83328205, 13.35      , 22.89223765, 29.435     , 20.69777778,\n",
       "       20.97952381, 13.18444444, 23.1637528 , 14.45733333, 19.25274094,\n",
       "       23.30985632, 19.30489606, 29.15      , 21.21446743, 29.875     ,\n",
       "       21.20602299,  8.77357143, 17.93      , 22.13521346, 22.97402299,\n",
       "       34.78      , 13.22571429, 18.328     , 18.40445161, 18.008     ,\n",
       "       21.03640033, 10.64857143, 20.13726797,  9.82373016, 48.46      ,\n",
       "       32.75      ,  9.26793651, 20.34666667, 20.5682011 , 20.98891905,\n",
       "       17.865     , 33.16666667, 19.6352381 , 20.5251341 , 35.69066667,\n",
       "       16.92      ,  9.345     , 13.82371429, 19.47777778, 12.0547619 ,\n",
       "       34.56      , 20.35886776, 15.10666667, 27.64857143,  9.1652381 ,\n",
       "       10.85222222, 21.11084039, 32.98066667, 26.02557098, 25.75318182,\n",
       "       18.44645161, 35.72      , 35.17466667, 12.766     ,  9.25238095,\n",
       "       27.98      , 26.69878527])"
      ]
     },
     "execution_count": 28,
     "metadata": {},
     "output_type": "execute_result"
    }
   ],
   "source": [
    "pred"
   ]
  },
  {
   "cell_type": "code",
   "execution_count": 29,
   "metadata": {},
   "outputs": [
    {
     "data": {
      "text/plain": [
       "<Figure size 640x480 with 1 Axes>"
      ]
     },
     "metadata": {},
     "output_type": "display_data"
    }
   ],
   "source": [
    "import matplotlib.pyplot as plt\n",
    "import seaborn as sns\n",
    "actual_values = y_test \n",
    "plt.scatter(actual_values,pred,color='r')\n",
    "plt.xlabel('Predicted Price')\n",
    "plt.ylabel('Actual Price')\n",
    "plt.title('RandomForest Regression Model for Test')\n",
    "plt.show()"
   ]
  },
  {
   "cell_type": "markdown",
   "metadata": {},
   "source": [
    "##### Convert model into ONNX\n",
    "<br>skl2onnx converts any machine learning pipeline into ONNX pipelines."
   ]
  },
  {
   "cell_type": "code",
   "execution_count": 31,
   "metadata": {
    "scrolled": true
   },
   "outputs": [],
   "source": [
    "from skl2onnx import convert_sklearn\n",
    "from skl2onnx.common.data_types import FloatTensorType\n",
    "\n",
    "initial_type = [('float_input', FloatTensorType([None, 13]))]\n",
    "onx = convert_sklearn(model, initial_types=initial_type)\n",
    "\n"
   ]
  },
  {
   "cell_type": "code",
   "execution_count": 32,
   "metadata": {},
   "outputs": [],
   "source": [
    "with open(\"house.onnx\", \"wb\") as f: #save model in.onnx format\n",
    "    f.write(onx.SerializeToString())"
   ]
  },
  {
   "cell_type": "markdown",
   "metadata": {},
   "source": [
    "##### Load and run the model using ONNX Runtime"
   ]
  },
  {
   "cell_type": "code",
   "execution_count": 33,
   "metadata": {
    "scrolled": true
   },
   "outputs": [],
   "source": [
    "import numpy\n",
    "import onnxruntime as rt\n",
    "session = rt.InferenceSession(\"house.onnx\")\n"
   ]
  },
  {
   "cell_type": "code",
   "execution_count": 34,
   "metadata": {},
   "outputs": [
    {
     "data": {
      "text/plain": [
       "<onnxruntime.capi.onnxruntime_pybind11_state.ModelMetadata at 0x2a39e2f3db0>"
      ]
     },
     "execution_count": 34,
     "metadata": {},
     "output_type": "execute_result"
    }
   ],
   "source": [
    "session.get_modelmeta()"
   ]
  },
  {
   "cell_type": "code",
   "execution_count": 35,
   "metadata": {},
   "outputs": [],
   "source": [
    "first_input_name = session.get_inputs()[0].name\n",
    "first_output_name = session.get_outputs()[0].name"
   ]
  },
  {
   "cell_type": "markdown",
   "metadata": {},
   "source": [
    "##### Predicting and evaluating results after ONNX Conversion"
   ]
  },
  {
   "cell_type": "code",
   "execution_count": 50,
   "metadata": {},
   "outputs": [],
   "source": [
    "pred_onx = session.run([], {first_input_name: X_test.astype(numpy.float32)})[0]"
   ]
  },
  {
   "cell_type": "code",
   "execution_count": 51,
   "metadata": {
    "scrolled": true
   },
   "outputs": [
    {
     "data": {
      "text/plain": [
       "array([[23.994055 ],\n",
       "       [22.185556 ],\n",
       "       [21.748943 ],\n",
       "       [11.59873  ],\n",
       "       [20.901506 ],\n",
       "       [21.210466 ],\n",
       "       [21.395369 ],\n",
       "       [20.525133 ],\n",
       "       [20.426924 ],\n",
       "       [20.094896 ],\n",
       "       [ 7.296667 ],\n",
       "       [11.2      ],\n",
       "       [14.1779995],\n",
       "       [ 9.272381 ],\n",
       "       [50.       ],\n",
       "       [33.470665 ],\n",
       "       [20.903767 ],\n",
       "       [36.2      ],\n",
       "       [28.197388 ],\n",
       "       [20.525133 ],\n",
       "       [23.972826 ],\n",
       "       [21.395779 ],\n",
       "       [19.456007 ],\n",
       "       [23.538754 ],\n",
       "       [21.641134 ],\n",
       "       [19.56     ],\n",
       "       [19.444897 ],\n",
       "       [16.781666 ],\n",
       "       [46.72     ],\n",
       "       [18.958    ],\n",
       "       [14.774    ],\n",
       "       [18.07549  ],\n",
       "       [19.581657 ],\n",
       "       [20.174791 ],\n",
       "       [22.614166 ],\n",
       "       [16.556665 ],\n",
       "       [ 8.504603 ],\n",
       "       [19.572222 ],\n",
       "       [15.295    ],\n",
       "       [16.744001 ],\n",
       "       [22.891022 ],\n",
       "       [20.901506 ],\n",
       "       [22.113546 ],\n",
       "       [16.94     ],\n",
       "       [23.348188 ],\n",
       "       [23.054855 ],\n",
       "       [21.990665 ],\n",
       "       [16.886667 ],\n",
       "       [14.630667 ],\n",
       "       [26.625    ],\n",
       "       [15.290001 ],\n",
       "       [20.535    ],\n",
       "       [20.471395 ],\n",
       "       [43.02     ],\n",
       "       [15.424    ],\n",
       "       [20.276665 ],\n",
       "       [19.76674  ],\n",
       "       [18.764051 ],\n",
       "       [20.322222 ],\n",
       "       [19.75657  ],\n",
       "       [22.007547 ],\n",
       "       [19.57273  ],\n",
       "       [33.190666 ],\n",
       "       [30.664286 ],\n",
       "       [20.751234 ],\n",
       "       [29.692467 ],\n",
       "       [14.940001 ],\n",
       "       [17.748    ],\n",
       "       [17.099998 ],\n",
       "       [20.901506 ],\n",
       "       [20.506622 ],\n",
       "       [23.212688 ],\n",
       "       [23.72557  ],\n",
       "       [32.14     ],\n",
       "       [28.005    ],\n",
       "       [ 8.931666 ],\n",
       "       [45.4      ],\n",
       "       [21.54534  ],\n",
       "       [22.924854 ],\n",
       "       [20.283585 ],\n",
       "       [30.24     ],\n",
       "       [18.59     ],\n",
       "       [18.406668 ],\n",
       "       [44.58     ],\n",
       "       [44.34     ],\n",
       "       [23.40961  ],\n",
       "       [21.9658   ],\n",
       "       [17.478823 ],\n",
       "       [25.502224 ],\n",
       "       [16.124    ],\n",
       "       [17.83328  ],\n",
       "       [13.349999 ],\n",
       "       [22.892239 ],\n",
       "       [29.435    ],\n",
       "       [20.697779 ],\n",
       "       [20.979525 ],\n",
       "       [13.184444 ],\n",
       "       [23.163754 ],\n",
       "       [14.457334 ],\n",
       "       [19.25274  ],\n",
       "       [23.309855 ],\n",
       "       [19.304895 ],\n",
       "       [29.149998 ],\n",
       "       [21.214466 ],\n",
       "       [29.874998 ],\n",
       "       [21.206022 ],\n",
       "       [ 8.773572 ],\n",
       "       [17.93     ],\n",
       "       [22.135214 ],\n",
       "       [22.974022 ],\n",
       "       [34.780003 ],\n",
       "       [13.225715 ],\n",
       "       [18.328    ],\n",
       "       [18.404451 ],\n",
       "       [18.008    ],\n",
       "       [21.0364   ],\n",
       "       [10.648572 ],\n",
       "       [20.137268 ],\n",
       "       [ 9.82373  ],\n",
       "       [48.46     ],\n",
       "       [32.75     ],\n",
       "       [ 9.267937 ],\n",
       "       [20.346668 ],\n",
       "       [20.568201 ],\n",
       "       [20.988918 ],\n",
       "       [17.865    ],\n",
       "       [33.166668 ],\n",
       "       [19.635239 ],\n",
       "       [20.525133 ],\n",
       "       [35.690666 ],\n",
       "       [16.92     ],\n",
       "       [ 9.345    ],\n",
       "       [13.823715 ],\n",
       "       [19.47778  ],\n",
       "       [12.054762 ],\n",
       "       [34.56     ],\n",
       "       [20.358868 ],\n",
       "       [15.106667 ],\n",
       "       [27.648571 ],\n",
       "       [ 9.165238 ],\n",
       "       [10.852222 ],\n",
       "       [21.11084  ],\n",
       "       [32.980667 ],\n",
       "       [26.02557  ],\n",
       "       [25.753181 ],\n",
       "       [18.446451 ],\n",
       "       [35.72     ],\n",
       "       [35.174667 ],\n",
       "       [12.766001 ],\n",
       "       [ 9.252381 ],\n",
       "       [27.98     ],\n",
       "       [26.698786 ]], dtype=float32)"
      ]
     },
     "execution_count": 51,
     "metadata": {},
     "output_type": "execute_result"
    }
   ],
   "source": [
    "pred_onx"
   ]
  },
  {
   "cell_type": "code",
   "execution_count": 38,
   "metadata": {},
   "outputs": [
    {
     "name": "stdout",
     "output_type": "stream",
     "text": [
      "ONNX RMSE: 4.555614241704201\n"
     ]
    }
   ],
   "source": [
    "onnx_rmse = math.sqrt(mean_squared_error(pred_onx,y_test))\n",
    "print('ONNX RMSE:',onnx_rmse)"
   ]
  },
  {
   "cell_type": "code",
   "execution_count": 39,
   "metadata": {},
   "outputs": [
    {
     "data": {
      "image/png": "[encoded data removed]",
      "text/plain": [
       "<Figure size 432x288 with 1 Axes>"
      ]
     },
     "metadata": {
      "needs_background": "light"
     },
     "output_type": "display_data"
    }
   ],
   "source": [
    "actual_values = y_test \n",
    "plt.scatter(actual_values,pred_onx,color='r')\n",
    "plt.xlabel('Predicted Price')\n",
    "plt.ylabel('Actual Price')\n",
    "plt.title('RandomForest Regression Model for Test')\n",
    "plt.show()"
   ]
  },
  {
   "cell_type": "markdown",
   "metadata": {},
   "source": [
    "#### Conclusion<br>\n",
    "Therefore ONNX model is created and prediction of houses prices before and after ONNX model is similar."
   ]
  },
  {
   "cell_type": "markdown",
   "metadata": {},
   "source": [
    "###### References<br>\n",
    "https://towardsdatascience.com/onnx-made-easy-957e60d16e94<br>\n",
    "https://docs.microsoft.com/en-us/azure/machine-learning/concept-onnx<br>\n",
    "http://onnx.ai/sklearn-onnx/tutorial.html<br>\n",
    "API:<br>\n",
    "https://towardsdatascience.com/how-to-deploy-a-machine-learning-model-dc51200fe8cf\n"
   ]
  }
 ],
 "metadata": {
  "kernelspec": {
   "display_name": "Python 3",
   "language": "python",
   "name": "python3"
  },
  "language_info": {
   "codemirror_mode": {
    "name": "ipython",
    "version": 3
   },
   "file_extension": ".py",
   "mimetype": "text/x-python",
   "name": "python",
   "nbconvert_exporter": "python",
   "pygments_lexer": "ipython3",
   "version": "3.7.6"
  }
 },
 "nbformat": 4,
 "nbformat_minor": 2
}
