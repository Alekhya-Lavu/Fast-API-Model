{
 "cells": [
  {
   "cell_type": "code",
   "execution_count": 1,
   "metadata": {},
   "outputs": [],
   "source": [
    "import requests\n",
    "# to_predict_dict = {'CRIM', 'ZN', 'INDUS', 'CHAS', 'NOX', 'RM', 'AGE', 'DIS', 'RAD',\n",
    "#        'TAX', 'PTRATIO', 'B', 'LSTAT'}\n",
    "to_predict_dict = {'CRIM':0.04527,\n",
    "                   'ZN':0.0,\n",
    "                   'INDUS':11.93,\n",
    "                   'CHAS':0.0,\n",
    "                   'NOX':0.573,\n",
    "                   'RM':6.17,\n",
    "                   'AGE':76.7,\n",
    "                   'DIS':2.2875,\n",
    "                   'RAD':1.0,\n",
    "                   'TAX':175.0,\n",
    "                   'PTRATIO':21.0,\n",
    "                   'B':396.90,\n",
    "                   'LSTAT':6.08,\n",
    "                   }\n",
    "\n",
    "url = 'http://127.0.0.1:8000/predict'\n",
    "r = requests.post(url,json=to_predict_dict)\n"
   ]
  },
  {
   "cell_type": "code",
   "execution_count": 2,
   "metadata": {},
   "outputs": [
    {
     "data": {
      "text/plain": [
       "{'prediction': 28.325000762939453}"
      ]
     },
     "execution_count": 2,
     "metadata": {},
     "output_type": "execute_result"
    }
   ],
   "source": [
    "r.json()"
   ]
  },
  {
   "cell_type": "code",
   "execution_count": null,
   "metadata": {},
   "outputs": [],
   "source": []
  }
 ],
 "metadata": {
  "kernelspec": {
   "display_name": "Python 3",
   "language": "python",
   "name": "python3"
  },
  "language_info": {
   "codemirror_mode": {
    "name": "ipython",
    "version": 3
   },
   "file_extension": ".py",
   "mimetype": "text/x-python",
   "name": "python",
   "nbconvert_exporter": "python",
   "pygments_lexer": "ipython3",
   "version": "3.7.6"
  }
 },
 "nbformat": 4,
 "nbformat_minor": 2
}
